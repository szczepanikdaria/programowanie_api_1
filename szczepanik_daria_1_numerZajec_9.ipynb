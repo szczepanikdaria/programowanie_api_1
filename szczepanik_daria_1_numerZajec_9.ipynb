{
  "nbformat": 4,
  "nbformat_minor": 0,
  "metadata": {
    "colab": {
      "provenance": []
    },
    "kernelspec": {
      "name": "python3",
      "display_name": "Python 3"
    },
    "language_info": {
      "name": "python"
    }
  },
  "cells": [
    {
      "cell_type": "code",
      "execution_count": 1,
      "metadata": {
        "id": "SpDfJofMwLgI"
      },
      "outputs": [],
      "source": [
        "import regex as re"
      ]
    },
    {
      "cell_type": "code",
      "source": [
        "tekst1 = \"Imię i nazwisko: Hubar, Patryk. Data urodzenia: 7 czerwca 1993. Numer telefonu: 123-456-789\"\n",
        "tekst2 = \"Imię i nazwisko: Mickiewicz, Adam. Data urodzenia: 22 stycznia 1877. Numer telefonu: 789456123\""
      ],
      "metadata": {
        "id": "jd8no2MaxPHe"
      },
      "execution_count": 3,
      "outputs": []
    },
    {
      "cell_type": "code",
      "source": [
        "imienazwisko1 = re.findall(\"([A-ZĄĆĘŁŃÓŚŹŻ][a-ząćęłńóśźż]+, [A-ZĄĆĘŁŃÓŚŹŻ][a-ząćęłńóśźż]+)\", tekst1)\n",
        "imienazwisko2 = re.findall(\"([A-ZĄĆĘŁŃÓŚŹŻ][a-ząćęłńóśźż]+, [A-ZĄĆĘŁŃÓŚŹŻ][a-ząćęłńóśźż]+)\", tekst2)"
      ],
      "metadata": {
        "id": "fYrNHP_VxuuL"
      },
      "execution_count": 71,
      "outputs": []
    },
    {
      "cell_type": "code",
      "source": [
        "imienazwisko1"
      ],
      "metadata": {
        "colab": {
          "base_uri": "https://localhost:8080/"
        },
        "id": "1bCgAPohyRE-",
        "outputId": "523abab2-b85f-4429-e0a2-0071df723f4e"
      },
      "execution_count": 72,
      "outputs": [
        {
          "output_type": "execute_result",
          "data": {
            "text/plain": [
              "['Hubar, Patryk']"
            ]
          },
          "metadata": {},
          "execution_count": 72
        }
      ]
    },
    {
      "cell_type": "code",
      "source": [
        "imienazwisko2"
      ],
      "metadata": {
        "colab": {
          "base_uri": "https://localhost:8080/"
        },
        "id": "VUYBl-re1hHo",
        "outputId": "cb984538-3eed-488c-df57-69666cf85422"
      },
      "execution_count": 73,
      "outputs": [
        {
          "output_type": "execute_result",
          "data": {
            "text/plain": [
              "['Mickiewicz, Adam']"
            ]
          },
          "metadata": {},
          "execution_count": 73
        }
      ]
    },
    {
      "cell_type": "code",
      "source": [
        "dataurodzenia1 = re.findall(\"(\\d{1,2} [a-ząćęłńóśźż]+ \\d{4})\", tekst1)\n",
        "dataurodzenia2 = re.findall(\"(\\d{1,2} [a-ząćęłńóśźż]+ \\d{4})\", tekst2)"
      ],
      "metadata": {
        "id": "XMzHn_a11lZv"
      },
      "execution_count": 62,
      "outputs": []
    },
    {
      "cell_type": "code",
      "source": [
        "dataurodzenia1"
      ],
      "metadata": {
        "colab": {
          "base_uri": "https://localhost:8080/"
        },
        "id": "7Lz3YiED190G",
        "outputId": "8279125e-0cd9-46d9-f759-d761ce45d563"
      },
      "execution_count": 63,
      "outputs": [
        {
          "output_type": "execute_result",
          "data": {
            "text/plain": [
              "['7 czerwca 1993']"
            ]
          },
          "metadata": {},
          "execution_count": 63
        }
      ]
    },
    {
      "cell_type": "code",
      "source": [
        "dataurodzenia2"
      ],
      "metadata": {
        "colab": {
          "base_uri": "https://localhost:8080/"
        },
        "id": "eMQJc5vR2B0d",
        "outputId": "1ffe0f42-7a2e-4b8c-8231-a957714d9071"
      },
      "execution_count": 65,
      "outputs": [
        {
          "output_type": "execute_result",
          "data": {
            "text/plain": [
              "['22 stycznia 1877']"
            ]
          },
          "metadata": {},
          "execution_count": 65
        }
      ]
    },
    {
      "cell_type": "code",
      "source": [
        "numertelefonu1 = re.findall(\"\\d{3}[\\s-]?\\d{3}[\\s-]?\\d{3}\", tekst1)\n",
        "numertelefonu2 = re.findall(\"\\d{3}[\\s-]?\\d{3}[\\s-]?\\d{3}\", tekst2)"
      ],
      "metadata": {
        "id": "-FdcAamw2FhP"
      },
      "execution_count": 49,
      "outputs": []
    },
    {
      "cell_type": "code",
      "source": [
        "numertelefonu1"
      ],
      "metadata": {
        "colab": {
          "base_uri": "https://localhost:8080/"
        },
        "id": "9gQ-HJlL2RjY",
        "outputId": "6c557bfb-a1e5-4ba0-e4b7-23cb0e11a9a8"
      },
      "execution_count": 50,
      "outputs": [
        {
          "output_type": "execute_result",
          "data": {
            "text/plain": [
              "['123-456-789']"
            ]
          },
          "metadata": {},
          "execution_count": 50
        }
      ]
    },
    {
      "cell_type": "code",
      "source": [
        "numertelefonu2"
      ],
      "metadata": {
        "colab": {
          "base_uri": "https://localhost:8080/"
        },
        "id": "h1rwDz9T2fIP",
        "outputId": "f4b623f4-ba57-4f5c-a802-70475cb550af"
      },
      "execution_count": 51,
      "outputs": [
        {
          "output_type": "execute_result",
          "data": {
            "text/plain": [
              "['789456123']"
            ]
          },
          "metadata": {},
          "execution_count": 51
        }
      ]
    },
    {
      "cell_type": "code",
      "source": [
        "imie_nazwisko = imienazwisko1, imienazwisko2\n",
        "data_urodzenia = dataurodzenia1, dataurodzenia2\n",
        "numer_telefonu = numertelefonu1, numertelefonu2"
      ],
      "metadata": {
        "id": "71Cy4hCD4Sln"
      },
      "execution_count": 69,
      "outputs": []
    },
    {
      "cell_type": "code",
      "source": [
        "print(\"Imiona i nazwiska:\", imie_nazwisko)\n",
        "print(\"Daty urodzenia:\", data_urodzenia)\n",
        "print(\"Numery telefonów:\", numer_telefonu)"
      ],
      "metadata": {
        "colab": {
          "base_uri": "https://localhost:8080/"
        },
        "id": "9DPe1kt31ALL",
        "outputId": "0722fa13-4555-4b15-f7ad-e558cc598684"
      },
      "execution_count": 70,
      "outputs": [
        {
          "output_type": "stream",
          "name": "stdout",
          "text": [
            "Imiona i nazwiska: (['Hubar, Patryk'], ['Mickiewicz, Adam'])\n",
            "Daty urodzenia: (['7 czerwca 1993'], ['22 stycznia 1877'])\n",
            "Numery telefonów: (['123-456-789'], ['789456123'])\n"
          ]
        }
      ]
    }
  ]
}