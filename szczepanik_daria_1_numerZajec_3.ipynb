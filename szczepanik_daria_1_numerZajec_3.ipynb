{
  "nbformat": 4,
  "nbformat_minor": 0,
  "metadata": {
    "colab": {
      "provenance": []
    },
    "kernelspec": {
      "name": "python3",
      "display_name": "Python 3"
    },
    "language_info": {
      "name": "python"
    }
  },
  "cells": [
    {
      "cell_type": "code",
      "execution_count": null,
      "metadata": {
        "id": "3DdsWjXVq2iS"
      },
      "outputs": [],
      "source": [
        "#1"
      ]
    },
    {
      "cell_type": "code",
      "source": [
        "while True:\n",
        "    name = input(\"Jak masz na imię? \")\n",
        "\n",
        "    if name.isdigit():\n",
        "         print(\"Błąd. Prosimy o ponowne uzupełnienie pola Imię.\")\n",
        "\n",
        "    else:\n",
        "        print(\"Poprawnie.\")\n",
        "        break"
      ],
      "metadata": {
        "id": "XawHj4kCsCee",
        "colab": {
          "base_uri": "https://localhost:8080/"
        },
        "outputId": "34ac8eb8-c960-429a-ea72-d2e5599a1eb5"
      },
      "execution_count": 126,
      "outputs": [
        {
          "output_type": "stream",
          "name": "stdout",
          "text": [
            "Jak masz na imię? Daria\n",
            "Poprawnie.\n"
          ]
        }
      ]
    },
    {
      "cell_type": "code",
      "source": [
        "while True:\n",
        "    surname = input(\"Jak masz na nazwisko? \")\n",
        "\n",
        "    if surname.isdigit():\n",
        "        print(\"Błąd. Prosimy o ponowne uzupełnienie pola Nazwisko.\")\n",
        "    else:\n",
        "        print(\"Poprawnie.\")\n",
        "        break"
      ],
      "metadata": {
        "colab": {
          "base_uri": "https://localhost:8080/"
        },
        "id": "AU7s4PhRvFum",
        "outputId": "8a95b014-4efe-4a5c-f546-8b5b9ebaea07"
      },
      "execution_count": 127,
      "outputs": [
        {
          "output_type": "stream",
          "name": "stdout",
          "text": [
            "Jak masz na nazwisko? Szczepanik\n",
            "Poprawnie.\n"
          ]
        }
      ]
    },
    {
      "cell_type": "code",
      "source": [
        "while True:\n",
        "    age = input(\"Ile masz lat? \")\n",
        "\n",
        "    if age.isdigit():\n",
        "        print(\"Poprawnie. \")\n",
        "        break\n",
        "    else:\n",
        "        print(\"Błąd. Prosimy o ponowne uzupełnienie pola Wiek.\")"
      ],
      "metadata": {
        "colab": {
          "base_uri": "https://localhost:8080/"
        },
        "id": "A9JoxhFZwZbL",
        "outputId": "4ebcf3ba-f455-41f0-9525-39e7d9c57f71"
      },
      "execution_count": 128,
      "outputs": [
        {
          "output_type": "stream",
          "name": "stdout",
          "text": [
            "Ile masz lat? 21\n",
            "Poprawnie. \n"
          ]
        }
      ]
    },
    {
      "cell_type": "code",
      "source": [
        "while True:\n",
        "    haslo = input(\"Wprowadź hasło: \")\n",
        "    haslo_pow = input(\"Wprowadź hasło ponownie: \")\n",
        "\n",
        "    if haslo == haslo_pow:\n",
        "        print(\"Hasło zostało ustawione poprawnie.\")\n",
        "        break\n",
        "    else:\n",
        "        print(\"Błąd. Hasła nie są takie same. Proszę spróbować ponownie.\")\n"
      ],
      "metadata": {
        "colab": {
          "base_uri": "https://localhost:8080/"
        },
        "id": "JwZLfJaDszBG",
        "outputId": "d30c40fe-0507-43af-ac9c-8b3b9c9ed7f5"
      },
      "execution_count": 129,
      "outputs": [
        {
          "output_type": "stream",
          "name": "stdout",
          "text": [
            "Wprowadź hasło: zebra123\n",
            "Wprowadź hasło ponownie: zebra123\n",
            "Hasło zostało ustawione poprawnie.\n"
          ]
        }
      ]
    },
    {
      "cell_type": "code",
      "source": [
        "def normalize_nr_telefonu(nr_telefonu):\n",
        "  for char in ['-', ' ', '#', '(', ')']:\n",
        "    nr_telefonu = nr_telefonu.replace(char, '')\n",
        "  if len(nr_telefonu) == 9 and nr_telefonu.isdigit():\n",
        "    return nr_telefonu\n",
        "  else:\n",
        "    return None"
      ],
      "metadata": {
        "id": "t9WPW1carwt7"
      },
      "execution_count": 130,
      "outputs": []
    },
    {
      "cell_type": "code",
      "source": [
        "while True:\n",
        "    nr_telefonu = input(\"Podaj numer telefonu: \").strip()\n",
        "    normalized_number = normalize_nr_telefonu(nr_telefonu)\n",
        "\n",
        "    if normalized_number:\n",
        "        print(f\"Poprawny numer telefonu: {normalized_number}\")\n",
        "        break\n",
        "    else:\n",
        "        print(\"Błędny numer telefonu. Spróbuj ponownie.\")"
      ],
      "metadata": {
        "colab": {
          "base_uri": "https://localhost:8080/"
        },
        "id": "sbP93yH2smpy",
        "outputId": "831df0c3-2cb0-4971-8d86-f748e6145f22"
      },
      "execution_count": 131,
      "outputs": [
        {
          "output_type": "stream",
          "name": "stdout",
          "text": [
            "Podaj numer telefonu: 123#123#123\n",
            "Poprawny numer telefonu: 123123123\n"
          ]
        }
      ]
    },
    {
      "cell_type": "code",
      "source": [
        "print(\"Twoje dane: \")\n",
        "print(f\"Imię: {name}\")\n",
        "print(f\"Nazwisko: {surname}\")\n",
        "print(f\"Wiek: {age}\")\n",
        "print(f\"Numer telefonu: {normalized_number}\")\n",
        "print(f\"Hasło: {haslo}\")"
      ],
      "metadata": {
        "colab": {
          "base_uri": "https://localhost:8080/"
        },
        "id": "nYL7zpktvwL6",
        "outputId": "128c6b00-b41f-46d7-cc46-beda55b03014"
      },
      "execution_count": 133,
      "outputs": [
        {
          "output_type": "stream",
          "name": "stdout",
          "text": [
            "Twoje dane: \n",
            "Imię: Daria\n",
            "Nazwisko: Szczepanik\n",
            "Wiek: 21\n",
            "Numer telefonu: 123123123\n",
            "Hasło: zebra123\n"
          ]
        }
      ]
    },
    {
      "cell_type": "code",
      "source": [
        "#2"
      ],
      "metadata": {
        "id": "NeKD4PuTxhhP"
      },
      "execution_count": null,
      "outputs": []
    },
    {
      "cell_type": "code",
      "source": [
        "print(\"Witaj w kalkulatorze!\")\n",
        "\n",
        "while True:\n",
        "    num1 = input(\"Podaj pierwszą liczbę: \").replace(',', '.')\n",
        "    try:\n",
        "        num1 = float(num1)\n",
        "        break\n",
        "    except ValueError:\n",
        "        print(\"To nie jest poprawna liczba. Proszę spróbować ponownie.\")\n",
        "\n",
        "while True:\n",
        "    num2 = input(\"Podaj drugą liczbę: \").replace(',', '.')\n",
        "    try:\n",
        "        num2 = float(num2)\n",
        "        break\n",
        "    except ValueError:\n",
        "        print(\"To nie jest poprawna liczba. Proszę spróbować ponownie.\")\n",
        "\n",
        "while True:\n",
        "    print(\"\\nWybierz działanie:\")\n",
        "    print(\"1. Dodawanie\")\n",
        "    print(\"2. Odejmowanie\")\n",
        "    print(\"3. Mnożenie\")\n",
        "    print(\"4. Dzielenie\")\n",
        "\n",
        "    operation = input(\"Wybierz numer działania (1/2/3/4): \")\n",
        "\n",
        "    if operation in ['1', '2', '3', '4']:\n",
        "        break\n",
        "    else:\n",
        "        print(\"Błąd: Niepoprawny wybór działania. Proszę spróbować ponownie.\")\n",
        "\n",
        "if operation == '4':\n",
        "    while num2 == 0:\n",
        "        print(\"Błąd: Nie można dzielić przez zero.\")\n",
        "        num2 = input(\"Podaj drugą liczbę (musi być różna od zera): \").replace(',', '.')\n",
        "        try:\n",
        "            num2 = float(num2)\n",
        "        except ValueError:\n",
        "            num2 = 0\n",
        "\n",
        "if operation == '1':\n",
        "    result = num1 + num2\n",
        "    print(f\"Wynik dodawania: {result}\")\n",
        "elif operation == '2':\n",
        "    result = num1 - num2\n",
        "    print(f\"Wynik odejmowania: {result}\")\n",
        "elif operation == '3':\n",
        "    result = num1 * num2\n",
        "    print(f\"Wynik mnożenia: {result}\")\n",
        "elif operation == '4':\n",
        "    result = num1 / num2\n",
        "    print(f\"Wynik dzielenia: {result}\")\n"
      ],
      "metadata": {
        "colab": {
          "base_uri": "https://localhost:8080/"
        },
        "id": "lo9imZEb7n7J",
        "outputId": "5be9ac2c-24b1-4a8e-ed18-bcd1e161629c"
      },
      "execution_count": 134,
      "outputs": [
        {
          "output_type": "stream",
          "name": "stdout",
          "text": [
            "Witaj w kalkulatorze!\n",
            "Podaj pierwszą liczbę: -1\n",
            "Podaj drugą liczbę: -1\n",
            "\n",
            "Wybierz działanie:\n",
            "1. Dodawanie\n",
            "2. Odejmowanie\n",
            "3. Mnożenie\n",
            "4. Dzielenie\n",
            "Wybierz numer działania (1/2/3/4): 1\n",
            "Wynik dodawania: -2.0\n"
          ]
        }
      ]
    }
  ]
}